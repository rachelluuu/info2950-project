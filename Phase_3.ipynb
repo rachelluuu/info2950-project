{
 "cells": [
  {
   "cell_type": "markdown",
   "metadata": {},
   "source": [
    "# Social Implications of Food: Yelp Analysis (Phase III)\n",
    "\n",
    "## Introduction\n",
    "This project for INFO 2950 provides an analysis of Yelp, a crowd-sourced business review platform. The dataset I'm using is a subset of information stored on Yelp, including businesses, users, and reviews in Canada and the United States. I focused on deriving  insights from the restaurants that users patronize and their friends. "
   ]
  },
  {
   "cell_type": "markdown",
   "metadata": {},
   "source": [
    "## Pre-registered Analyses\n",
    "\n",
    "### Hypothesis 1: User growth on the Yelp platform is exponential. \n",
    "I will model the relationship between number of users on Yelp over time.\n",
    "- Given that every user has a corresponding date that they joined the platform, the total number of users over time can be aggregated and plotted.\n",
    "- After getting the data points for past users, I can use regression or other modelling methods to analyze user trends over time and predict future behavior.\n",
    "\n",
    "By analyzing how the size of the user base grows over time, I can learn about Yelp's growth potential. \n",
    "- There is a theory called Metcalf's Law<sup>1</sup> which states that the value of a social network is proportional to $n^2$ with $n$ being the number of users. This reasoning comes from the idea that the number of posssible connections within the network is equivalent to $n \\times n$, with usage and revenue being proportional to the number of connections.\n",
    "- By seeing how Yelp's user base is growing over time and assuming Metcalf's Law is an accurate estimate, we can roughly project the future value of the firm.\n",
    "- Additionally, more users means more data. In data science, more data often makes finding statistically significant results easier and helps create more robust machine learning models. Based on user growth, I aim to see whether there is a promising potential for more effective social network analysis, such as the work I plan to do in hypothesis two, in the future.\n",
    "\n",
    "### Hypothesis 2: Closer friends will have more similar food preferences.\n",
    "I will create a model showing whether there is a relationship between the degree of friendship and similarity in food category preferences.\n",
    "- Leveraging the \"friends\" feature of users' profiles, users can be compared to their direct friends versus 2nd-degree connections (i.e. friends of friends), or even more distantly related users. \n",
    "- Similar food preferences will be defined by a metric such as the proportion of stars given to a category by a user; specifically, preference for a category can be represented as the total number of stars given to a particular category (e.g. \"American\") divided by total number of stars given in reviews to all categories by a particular user.  \n",
    "\n",
    "By determining whether the degree of friendship is predictive to food preference similarity, I will discover whether friends have more similar tastes. \n",
    "- From a commercial perspective, this knowledge can be useful to improve future recommendation algorithms by providing more insight into how person's friends' preferences should be weighted. \n",
    "- From a social perspective, a relationship between tastes and friendship may indicate that people are more likely to be friends if they have similar food interests or vice versa. This could be an interesting perspective to explore in determining whether people with similar tastes will become closer friends or even more compatible in dating. \n",
    "\n",
    "### References\n",
    "<sup>1</sup> https://en.wikipedia.org/wiki/Metcalfe%27s_law"
   ]
  },
  {
   "cell_type": "markdown",
   "metadata": {},
   "source": [
    "## Questions for Reviewers\n",
    "- Do you think these analyses are complex enough to produce a good final project?\n",
    "- What are your thoughts on my food preference similarity metric? Are there any better comparison metrics you would suggest?\n",
    "- Do you think people who are friends are more likely to have similar tastes or are people with similar tastes more likely to be friends? Is this causal relationship feasible and/or worthwhile to determine given my dataset? "
   ]
  }
 ],
 "metadata": {
  "kernelspec": {
   "display_name": "Python 3",
   "language": "python",
   "name": "python3"
  },
  "language_info": {
   "codemirror_mode": {
    "name": "ipython",
    "version": 3
   },
   "file_extension": ".py",
   "mimetype": "text/x-python",
   "name": "python",
   "nbconvert_exporter": "python",
   "pygments_lexer": "ipython3",
   "version": "3.8.5"
  }
 },
 "nbformat": 4,
 "nbformat_minor": 4
}
